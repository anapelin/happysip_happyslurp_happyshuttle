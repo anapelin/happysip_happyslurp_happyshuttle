{
 "cells": [
  {
   "cell_type": "code",
   "execution_count": 33,
   "metadata": {},
   "outputs": [],
   "source": [
    "import requests\n",
    "import pandas as pd\n",
    "import numpy as np\n",
    "import json"
   ]
  },
  {
   "cell_type": "code",
   "execution_count": null,
   "metadata": {},
   "outputs": [],
   "source": [
    "# check API connection status\n",
    "\n",
    "url = \"https://besttime.app/api/v1/keys/pri_213fe6a21137499da100e7bf8b3553f5\"\n",
    "\n",
    "response = requests.request(\"GET\", url)\n",
    "\n",
    "print(response.json())"
   ]
  },
  {
   "cell_type": "code",
   "execution_count": null,
   "metadata": {},
   "outputs": [],
   "source": [
    "# all clubs in singapore                                                                                                                                     q# all clubs in singapore\n",
    "\n",
    "url = \"https://besttime.app/api/v1/venues/search\"\n",
    "\n",
    "params = {\n",
    "    'api_key_private': 'pri_213fe6a21137499da100e7bf8b3553f5',\n",
    "    'q': 'all bars and nightclubs in Singapore',\n",
    "    'num': 200,\n",
    "    'fast': False,\n",
    "    'foot_traffic': 'limited',\n",
    "    'hour_min': 18,\n",
    "    'hour_max': 0,\n",
    "    'day_int': 5,\n",
    "    'types': ['BEER','BREWERY','WINERY','CLUBS']\n",
    "}\n",
    "\n",
    "response = requests.request(\"POST\", url, params=params)\n",
    "response_json = response.json()"
   ]
  },
  {
   "cell_type": "code",
   "execution_count": null,
   "metadata": {},
   "outputs": [],
   "source": [
    "# all bars in singapore\n",
    "\n",
    "url = \"https://besttime.app/api/v1/venues/search\"\n",
    "\n",
    "params = {\n",
    "    'api_key_private': 'pri_213fe6a21137499da100e7bf8b3553f5',\n",
    "    'q': 'all bars in Singapore',\n",
    "    'format'\n",
    "    'num': 200,\n",
    "    'fast': False,\n",
    "    'foot_traffic': 'limited',\n",
    "    'hour_min': 18,\n",
    "    'hour_max': 0,\n",
    "    'day_int': 5,\n",
    "    'types': ['BAR']\n",
    "}\n",
    "\n",
    "response = requests.request(\"POST\", url, params=params)\n",
    "print(response.json())"
   ]
  },
  {
   "cell_type": "code",
   "execution_count": null,
   "metadata": {},
   "outputs": [],
   "source": [
    "# all fast food restaurants singapore\n",
    "\n",
    "url = \"https://besttime.app/api/v1/venues/search\"\n",
    "\n",
    "params = {\n",
    "    'api_key_private': 'pri_213fe6a21137499da100e7bf8b3553f5',\n",
    "    'q': 'all fast food restaurants in Singapore',\n",
    "    'num': 200,\n",
    "    'fast': False,\n",
    "    'types': ['FAST_FOOD']\n",
    "}\n",
    "\n",
    "response = requests.request(\"POST\", url, params=params)\n",
    "print(response.json())"
   ]
  },
  {
   "cell_type": "code",
   "execution_count": 34,
   "metadata": {},
   "outputs": [],
   "source": [
    "# commit all grab restaurants open past midnight to the same collection\n",
    "restaurants_df = pd.read_csv(\"dataset/midnight_restaurants.csv\")"
   ]
  },
  {
   "cell_type": "code",
   "execution_count": 38,
   "metadata": {},
   "outputs": [],
   "source": [
    "# Function to get crowd density data from besttime using restaurant name and address\n",
    "def get_cd_json(name, address, is_midnight_restaurant):\n",
    "    if is_midnight_restaurant == False:\n",
    "        return np.nan\n",
    "    \n",
    "    url = \"https://besttime.app/api/v1/forecasts\"\n",
    "    params = {\n",
    "        'api_key_private': 'pri_213fe6a21137499da100e7bf8b3553f5',\n",
    "        'venue_name': name,\n",
    "        'venue_address': address\n",
    "    }\n",
    "\n",
    "    response = requests.request(\"POST\", url, params=params)\n",
    "    return response.json()"
   ]
  },
  {
   "cell_type": "code",
   "execution_count": 39,
   "metadata": {},
   "outputs": [],
   "source": [
    "restaurants_df['cd_json'] = restaurants_df.apply(lambda x: get_cd_json(x['name'], x['address'], x['midnight_restaurant']), axis=1)"
   ]
  },
  {
   "cell_type": "code",
   "execution_count": 40,
   "metadata": {},
   "outputs": [],
   "source": [
    "# Initialize empty columns to store Friday and Saturday crowd density data\n",
    "restaurants_df['fri_cd'], restaurants_df['sat_cd'] = np.nan, np.nan"
   ]
  },
  {
   "cell_type": "code",
   "execution_count": 75,
   "metadata": {},
   "outputs": [],
   "source": [
    "def get_fri_sat_cd(row):\n",
    "    fri_cd, sat_cd = np.nan, np.nan\n",
    "    cd_json = row['cd_json']\n",
    "    if type(cd_json) != dict:\n",
    "        return np.nan, np.nan\n",
    "\n",
    "    if cd_json['status'] == 'OK':\n",
    "        analysis = cd_json['analysis']\n",
    "        for day in analysis: \n",
    "            day_text = day['day_info']['day_text']\n",
    "            day_raw = day['day_raw']\n",
    "            if day_text == 'Friday':\n",
    "                fri_cd = day_raw\n",
    "            if day_text == 'Saturday':\n",
    "                sat_cd = day_raw\n",
    "    return fri_cd, sat_cd"
   ]
  },
  {
   "cell_type": "code",
   "execution_count": 80,
   "metadata": {},
   "outputs": [],
   "source": [
    "restaurants_df[['fri_cd', 'sat_cd']] = restaurants_df.apply(lambda x: get_fri_sat_cd(x), axis=1, result_type='expand')"
   ]
  },
  {
   "cell_type": "code",
   "execution_count": 83,
   "metadata": {},
   "outputs": [],
   "source": [
    "restaurants_df.to_csv(\"dataset/besttime/restaurants.csv\")"
   ]
  }
 ],
 "metadata": {
  "kernelspec": {
   "display_name": "Python 3",
   "language": "python",
   "name": "python3"
  },
  "language_info": {
   "codemirror_mode": {
    "name": "ipython",
    "version": 3
   },
   "file_extension": ".py",
   "mimetype": "text/x-python",
   "name": "python",
   "nbconvert_exporter": "python",
   "pygments_lexer": "ipython3",
   "version": "3.7.13"
  }
 },
 "nbformat": 4,
 "nbformat_minor": 2
}
